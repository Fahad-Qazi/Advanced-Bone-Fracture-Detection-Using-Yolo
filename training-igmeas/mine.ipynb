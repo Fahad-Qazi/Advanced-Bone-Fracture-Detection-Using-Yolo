{
 "cells": [
  {
   "cell_type": "code",
   "execution_count": 9,
   "id": "180e1bc5",
   "metadata": {},
   "outputs": [
    {
     "data": {
      "text/plain": [
       "'C:\\\\Users\\\\Admin\\\\OneDrive\\\\Desktop\\\\Fahad_Qazi_Project\\\\01_project\\\\new_combined_trainings\\\\New\\\\Yolo_V8\\\\Yolo_V8n_improved\\\\YOLOv10s_Metrics.png'"
      ]
     },
     "execution_count": 9,
     "metadata": {},
     "output_type": "execute_result"
    }
   ],
   "source": [
    "from PIL import Image\n",
    "import os\n",
    "\n",
    "# Folder containing the graph images (place your image filenames here)\n",
    "image_paths = [\n",
    "    r\"C:\\Users\\Admin\\OneDrive\\Desktop\\Fahad_Qazi_Project\\01_project\\new_combined_trainings\\New\\Yolo_V10\\Yolo_V10s\\Training_Imgaes\\P_curve.png\",\n",
    "    r\"C:\\Users\\Admin\\OneDrive\\Desktop\\Fahad_Qazi_Project\\01_project\\new_combined_trainings\\New\\Yolo_V10\\Yolo_V10s\\Training_Imgaes\\PR_curve.png\",\n",
    "    r\"C:\\Users\\Admin\\OneDrive\\Desktop\\Fahad_Qazi_Project\\01_project\\new_combined_trainings\\New\\Yolo_V10\\Yolo_V10s\\Training_Imgaes\\R_curve (1).png\",\n",
    "    r\"C:\\Users\\Admin\\OneDrive\\Desktop\\Fahad_Qazi_Project\\01_project\\new_combined_trainings\\New\\Yolo_V10\\Yolo_V10s\\Training_Imgaes\\F1_curve.png\"\n",
    "]\n",
    "\n",
    "# Open all images\n",
    "images = [Image.open(img_path) for img_path in image_paths]\n",
    "\n",
    "# Resize all images to the same size (optional: based on the first image)\n",
    "width, height = images[0].size\n",
    "images = [img.resize((width, height), Image.LANCZOS) for img in images]\n",
    "\n",
    "# Combine images in a 2x2 grid\n",
    "new_width = width * 2\n",
    "new_height = height * 2\n",
    "merged_image = Image.new('RGB', (new_width, new_height), (255, 255, 255))\n",
    "\n",
    "# Paste images\n",
    "merged_image.paste(images[0], (0, 0))\n",
    "merged_image.paste(images[1], (width, 0))\n",
    "merged_image.paste(images[2], (0, height))\n",
    "merged_image.paste(images[3], (width, height))\n",
    "\n",
    "# Save with high resolution\n",
    "output_path = r\"C:\\Users\\Admin\\OneDrive\\Desktop\\Fahad_Qazi_Project\\01_project\\new_combined_trainings\\New\\Yolo_V8\\Yolo_V8n_improved\\YOLOv10s_Metrics.png\"\n",
    "merged_image.save(output_path, format='PNG', dpi=(300, 300))\n",
    "\n",
    "output_path\n"
   ]
  },
  {
   "cell_type": "code",
   "execution_count": 4,
   "id": "8b16a467",
   "metadata": {},
   "outputs": [
    {
     "name": "stdout",
     "output_type": "stream",
     "text": [
      "Merged image saved successfully!\n"
     ]
    }
   ],
   "source": [
    "from PIL import Image\n",
    "import os\n",
    "\n",
    "# Folder containing the graph images (update your filenames)\n",
    "image_paths = [\n",
    "    \"confusion_matrix (1).png\",  # First full-width\n",
    "    \"P_curve.png\",\n",
    "    \"PR_curve.png\",\n",
    "    \"R_curve (1).png\",\n",
    "    \"F1_curve.png\"\n",
    "]\n",
    "\n",
    "# Open all images\n",
    "images = [Image.open(img_path) for img_path in image_paths]\n",
    "\n",
    "# Get width and height of the first image\n",
    "width, height = images[0].size\n",
    "\n",
    "# Resize all images to match the width\n",
    "images = [img.resize((width, height), Image.LANCZOS) for img in images]\n",
    "\n",
    "# New canvas size\n",
    "new_width = width * 3  # Three images in second row\n",
    "new_height = height * 2  # Two rows: first full width, second row of 3 images\n",
    "\n",
    "# Create blank white background\n",
    "merged_image = Image.new('RGB', (new_width, new_height), (255, 255, 255))\n",
    "\n",
    "# Paste first image (full width at the top)\n",
    "merged_image.paste(images[0], (0, 0))\n",
    "\n",
    "# Calculate individual width for bottom three\n",
    "single_width = width\n",
    "\n",
    "# Resize bottom three images (optional: same height but smaller width)\n",
    "images[1] = images[1].resize((single_width, height), Image.LANCZOS)\n",
    "images[2] = images[2].resize((single_width, height), Image.LANCZOS)\n",
    "images[3] = images[3].resize((single_width, height), Image.LANCZOS)\n",
    "\n",
    "# Paste the next three images side-by-side at bottom\n",
    "merged_image.paste(images[1], (0, height))\n",
    "merged_image.paste(images[2], (single_width, height))\n",
    "merged_image.paste(images[3], (2 * single_width, height))\n",
    "\n",
    "# Save with high resolution\n",
    "output_path = r\"C:\\Users\\Admin\\OneDrive\\Desktop\\Fahad_Qazi_Project\\01_project\\new_combined_trainings\\New\\Yolo_V8\\Yolo_V8n_improved\\training-igmeasure2.png\"\n",
    "merged_image.save(output_path, format='PNG', dpi=(300, 300))\n",
    "\n",
    "print(\"Merged image saved successfully!\")\n"
   ]
  },
  {
   "cell_type": "code",
   "execution_count": null,
   "id": "4c73a1df",
   "metadata": {},
   "outputs": [
    {
     "name": "stdout",
     "output_type": "stream",
     "text": [
      "Merged image saved successfully!\n"
     ]
    }
   ],
   "source": [
    "from PIL import Image\n",
    "import os\n",
    "\n",
    "# Image paths\n",
    "image_paths = [\n",
    "    r\"C:\\Users\\Admin\\OneDrive\\Desktop\\Fahad_Qazi_Project\\01_project\\new_combined_trainings\\New\\Yolo_V8\\Yolo_V8s\\training_images\\P_curve.png\",\n",
    "    r\"C:\\Users\\Admin\\OneDrive\\Desktop\\Fahad_Qazi_Project\\01_project\\new_combined_trainings\\New\\Yolo_V8\\Yolo_V8s\\training_images\\PR_curve.png\",\n",
    "    r\"C:\\Users\\Admin\\OneDrive\\Desktop\\Fahad_Qazi_Project\\01_project\\new_combined_trainings\\New\\Yolo_V8\\Yolo_V8s\\training_images\\R_curve (1).png\",\n",
    "    r\"C:\\Users\\Admin\\OneDrive\\Desktop\\Fahad_Qazi_Project\\01_project\\new_combined_trainings\\New\\Yolo_V8\\Yolo_V8s\\training_images\\F1_curve.png\"\n",
    "]\n",
    "\n",
    "# Open all images\n",
    "images = [Image.open(img_path) for img_path in image_paths]\n",
    "\n",
    "# Get width and height of the first image\n",
    "width, height = images[0].size\n",
    "\n",
    "# Set size for small images\n",
    "small_width = width // 3  # Divide into three parts\n",
    "small_height = height // 2  # Make them smaller vertically if you want\n",
    "\n",
    "# Resize confusion matrix to full width\n",
    "images[0] = images[0].resize((width, height), Image.LANCZOS)\n",
    "\n",
    "# Resize bottom three images to smaller size\n",
    "images[1:] = [img.resize((small_width, small_height), Image.LANCZOS) for img in images[1:]]\n",
    "\n",
    "# Create a new image (canvas)\n",
    "new_width = width\n",
    "new_height = height + small_height  # Full height\n",
    "\n",
    "merged_image = Image.new('RGB', (new_width, new_height), (255, 255, 255))\n",
    "\n",
    "# Paste first full-width image (confusion matrix)\n",
    "merged_image.paste(images[0], (0, 0))\n",
    "\n",
    "# Paste the three small images side-by-side below\n",
    "merged_image.paste(images[1], (0, height))\n",
    "merged_image.paste(images[2], (small_width, height))\n",
    "merged_image.paste(images[3], (2 * small_width, height))\n",
    "\n",
    "# Save high-resolution output\n",
    "output_path = r\"C:\\Users\\Admin\\OneDrive\\Desktop\\Fahad_Qazi_Project\\01_project\\new_combined_trainings\\New\\Yolo_V8\\Yolo_V8n_improved\\training-igmeasure4.png\"\n",
    "merged_image.save(output_path, format='PNG', dpi=(300, 300))\n",
    "\n",
    "print(\"Merged image saved successfully!\")\n"
   ]
  }
 ],
 "metadata": {
  "kernelspec": {
   "display_name": "Python 3",
   "language": "python",
   "name": "python3"
  },
  "language_info": {
   "codemirror_mode": {
    "name": "ipython",
    "version": 3
   },
   "file_extension": ".py",
   "mimetype": "text/x-python",
   "name": "python",
   "nbconvert_exporter": "python",
   "pygments_lexer": "ipython3",
   "version": "3.8.10"
  }
 },
 "nbformat": 4,
 "nbformat_minor": 5
}
